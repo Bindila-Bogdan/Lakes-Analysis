{
 "cells": [
  {
   "cell_type": "markdown",
   "metadata": {},
   "source": [
    "# Pipeline for estimating lakes area"
   ]
  },
  {
   "cell_type": "markdown",
   "metadata": {},
   "source": [
    "### 0. Import libraries and load data"
   ]
  },
  {
   "cell_type": "code",
   "execution_count": null,
   "metadata": {
    "tags": []
   },
   "outputs": [],
   "source": [
    "%reload_ext autoreload\n",
    "%matplotlib inline\n",
    "%autoreload 2\n",
    "\n",
    "from src.model_trainer import *\n",
    "from src.data_loader import *\n",
    "from src.lake_analyzer import *\n",
    "\n",
    "import warnings\n",
    "import numpy as np\n",
    "import pandas as pd\n",
    "from tqdm import tqdm\n",
    "warnings.filterwarnings(\"ignore\")\n",
    "\n",
    "TRAIN_LAKES = [\"george\", \"walker\", \"melincue\"]\n",
    "TEST_LAKES = [\"mono\"]\n",
    "THRESHOLDS_NUMBER = 10"
   ]
  },
  {
   "cell_type": "code",
   "execution_count": null,
   "metadata": {
    "tags": []
   },
   "outputs": [],
   "source": [
    "train_data, data_indices = load_lakes(TRAIN_LAKES)\n",
    "test_data, _ = load_lakes(TEST_LAKES)"
   ]
  },
  {
   "cell_type": "markdown",
   "metadata": {
    "user_expressions": []
   },
   "source": [
    "### 1. Train and optimize lake detector with cross-validation"
   ]
  },
  {
   "cell_type": "code",
   "execution_count": null,
   "metadata": {
    "tags": []
   },
   "outputs": [],
   "source": [
    "f1_scores = []\n",
    "kappa_scores = []\n",
    "\n",
    "# define the space for thresholds\n",
    "thresholds = [\n",
    "    np.percentile(get_water_index_values(train_data)[2], percentile)\n",
    "    for percentile in np.linspace(20, 100, THRESHOLDS_NUMBER)\n",
    "]\n",
    "\n",
    "# go over each threshold\n",
    "for threshold in tqdm(thresholds):\n",
    "    # compute the average metric for the current threshold\n",
    "    avg_f1, avg_kappa = compute_cross_validation_scores(train_data, data_indices, threshold)\n",
    "\n",
    "    f1_scores.append(avg_f1)\n",
    "    kappa_scores.append(avg_kappa)\n",
    "\n",
    "# display a data frame that contains the results\n",
    "threshold_scores = pd.DataFrame(\n",
    "    {\"threshold\": thresholds, \"f1_score\": f1_scores, \"kappa_score\": kappa_scores}\n",
    ").sort_values(\"f1_score\", ascending=False)\n",
    "threshold_scores"
   ]
  },
  {
   "cell_type": "code",
   "execution_count": null,
   "metadata": {
    "tags": []
   },
   "outputs": [],
   "source": [
    "# get predictions for the train dataset\n",
    "best_threshold = -0.316582 # threshold_scores[\"threshold\"].iloc[0]\n",
    "train_detections = predict_th(train_data, best_threshold)"
   ]
  },
  {
   "cell_type": "markdown",
   "metadata": {
    "user_expressions": []
   },
   "source": [
    "### 2. Test lake detector"
   ]
  },
  {
   "cell_type": "code",
   "execution_count": null,
   "metadata": {
    "tags": []
   },
   "outputs": [],
   "source": [
    "# get predictions for the test dataset\n",
    "test_detections = predict_th(test_data, best_threshold)\n",
    "\n",
    "# compute the test metrics with the current threshold\n",
    "avg_f1, avg_kappa = compute_cross_validation_scores_th(\n",
    "    test_data, [list(range(len(test_data)))], best_threshold, test=True\n",
    ")\n",
    "print(f\"Test F1: {avg_f1}\\nTest kappa: {avg_kappa}\")\n"
   ]
  },
  {
   "cell_type": "markdown",
   "metadata": {},
   "source": [
    "### 3. Analyze lake evolution"
   ]
  },
  {
   "cell_type": "code",
   "execution_count": null,
   "metadata": {
    "tags": []
   },
   "outputs": [],
   "source": [
    "analyze_lake(\"melincue\", train_data, train_detections)\n"
   ]
  },
  {
   "cell_type": "code",
   "execution_count": null,
   "metadata": {},
   "outputs": [],
   "source": []
  }
 ],
 "metadata": {
  "kernelspec": {
   "display_name": "Python",
   "language": "python",
   "name": "python3"
  },
  "language_info": {
   "codemirror_mode": {
    "name": "ipython",
    "version": 3
   },
   "file_extension": ".py",
   "mimetype": "text/x-python",
   "name": "python",
   "nbconvert_exporter": "python",
   "pygments_lexer": "ipython3",
   "version": "3.8.10"
  }
 },
 "nbformat": 4,
 "nbformat_minor": 4
}
