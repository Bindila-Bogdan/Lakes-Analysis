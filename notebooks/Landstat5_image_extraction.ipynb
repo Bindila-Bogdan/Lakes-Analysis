{
 "cells": [
  {
   "cell_type": "code",
   "execution_count": 8,
   "id": "4475170a-c8d9-4519-9527-205c5f5246b5",
   "metadata": {
    "tags": []
   },
   "outputs": [
    {
     "data": {
      "text/html": [
       "\n",
       "            <style>\n",
       "                .geemap-dark {\n",
       "                    --jp-widgets-color: white;\n",
       "                    --jp-widgets-label-color: white;\n",
       "                    --jp-ui-font-color1: white;\n",
       "                    --jp-layout-color2: #454545;\n",
       "                    background-color: #383838;\n",
       "                }\n",
       "\n",
       "                .geemap-dark .jupyter-button {\n",
       "                    --jp-layout-color3: #383838;\n",
       "                }\n",
       "\n",
       "                .geemap-colab {\n",
       "                    background-color: var(--colab-primary-surface-color, white);\n",
       "                }\n",
       "\n",
       "                .geemap-colab .jupyter-button {\n",
       "                    --jp-layout-color3: var(--colab-primary-surface-color, white);\n",
       "                }\n",
       "            </style>\n",
       "            "
      ],
      "text/plain": [
       "<IPython.core.display.HTML object>"
      ]
     },
     "metadata": {},
     "output_type": "display_data"
    },
    {
     "name": "stdout",
     "output_type": "stream",
     "text": [
      "Google Earth Engine has initialized successfully!\n"
     ]
    }
   ],
   "source": [
    "import ee\n",
    "import geemap\n",
    "import os\n",
    "import rasterio\n",
    "import numpy as np\n",
    "import matplotlib.pyplot as plt\n",
    "import geopandas as gpd\n",
    "import folium\n",
    "\n",
    "\n",
    "try:\n",
    "    # Initialize the library.\n",
    "    ee.Initialize(project='ee-mpozdech')\n",
    "    print('Google Earth Engine has initialized successfully!')\n",
    "except ee.EEException as e:\n",
    "    print('Google Earth Engine has failed to initialize!')\n",
    "except:\n",
    "    print(\"Unexpected error:\", sys.exc_info()[0])\n",
    "    raise\n",
    "    \n",
    "def image_date(image):\n",
    "    # Get the image's 'system:time_start' property, which represents the image acquisition time\n",
    "    time_start = ee.Date(image.get('system:time_start'))\n",
    "    # Format the date to a string and print it\n",
    "    return time_start.format('YYYY-MM-dd').getInfo()\n",
    "    \n",
    "# Applies scaling factors.\n",
    "def apply_scale_factors(image):\n",
    "  optical_bands = image.select('SR_B.').multiply(0.0000275).add(-0.2)\n",
    "  thermal_bands = image.select('ST_B6').multiply(0.00341802).add(149.0)\n",
    "  return image.addBands(optical_bands, None, True).addBands(\n",
    "      thermal_bands, None, True\n",
    "  )"
   ]
  },
  {
   "cell_type": "code",
   "execution_count": 52,
   "id": "93841da4-84de-4ae3-ad98-39eb81d68afa",
   "metadata": {
    "tags": []
   },
   "outputs": [
    {
     "data": {
      "text/html": [
       "\n",
       "            <style>\n",
       "                .geemap-dark {\n",
       "                    --jp-widgets-color: white;\n",
       "                    --jp-widgets-label-color: white;\n",
       "                    --jp-ui-font-color1: white;\n",
       "                    --jp-layout-color2: #454545;\n",
       "                    background-color: #383838;\n",
       "                }\n",
       "\n",
       "                .geemap-dark .jupyter-button {\n",
       "                    --jp-layout-color3: #383838;\n",
       "                }\n",
       "\n",
       "                .geemap-colab {\n",
       "                    background-color: var(--colab-primary-surface-color, white);\n",
       "                }\n",
       "\n",
       "                .geemap-colab .jupyter-button {\n",
       "                    --jp-layout-color3: var(--colab-primary-surface-color, white);\n",
       "                }\n",
       "            </style>\n",
       "            "
      ],
      "text/plain": [
       "<IPython.core.display.HTML object>"
      ]
     },
     "metadata": {},
     "output_type": "display_data"
    },
    {
     "name": "stdout",
     "output_type": "stream",
     "text": [
      "Number of images in the collection:  217\n"
     ]
    }
   ],
   "source": [
    "### dataset loading\n",
    "coordinates = [149.35704470513303,-34.98, 149.49550371751621,-35.20614998677668]\n",
    "region = ee.Geometry.Rectangle(coordinates)\n",
    "\n",
    "dataset = ( \n",
    "    ee.ImageCollection('LANDSAT/LT05/C02/T1_L2')\n",
    "    .filterDate('1984-03-16', '2012-05-01')\n",
    "    .filterBounds(region)\n",
    "    .filterMetadata('CLOUD_COVER','less_than', 20)\n",
    ")\n",
    "\n",
    "dataset = dataset.map(apply_scale_factors)\n",
    "\n",
    "listOfImages = dataset.aggregate_array('system:index').getInfo()\n",
    "print('Number of images in the collection: ', len(listOfImages))\n",
    "collection_list = dataset.toList(dataset.size())\n",
    "\n",
    "img_id = 1\n",
    "image = ee.Image(collection_list.get(img_id))\n",
    "capture_date = image_date(image)\n",
    "\n",
    "#95 looks empty but shows water inside\n",
    "\n",
    "#messy but kept: 48,54,57,58,61,64,72,84,85,124\n",
    "\n",
    "#shitlist: 9,20,23,27,29,32,35,36,55,59,60,71,74,78,108,116,126,136,"
   ]
  },
  {
   "cell_type": "code",
   "execution_count": 324,
   "id": "5951deaf-ff72-469e-8f68-8110833f2c7e",
   "metadata": {
    "tags": []
   },
   "outputs": [
    {
     "data": {
      "text/html": [
       "\n",
       "            <style>\n",
       "                .geemap-dark {\n",
       "                    --jp-widgets-color: white;\n",
       "                    --jp-widgets-label-color: white;\n",
       "                    --jp-ui-font-color1: white;\n",
       "                    --jp-layout-color2: #454545;\n",
       "                    background-color: #383838;\n",
       "                }\n",
       "\n",
       "                .geemap-dark .jupyter-button {\n",
       "                    --jp-layout-color3: #383838;\n",
       "                }\n",
       "\n",
       "                .geemap-colab {\n",
       "                    background-color: var(--colab-primary-surface-color, white);\n",
       "                }\n",
       "\n",
       "                .geemap-colab .jupyter-button {\n",
       "                    --jp-layout-color3: var(--colab-primary-surface-color, white);\n",
       "                }\n",
       "            </style>\n",
       "            "
      ],
      "text/plain": [
       "<IPython.core.display.HTML object>"
      ]
     },
     "metadata": {},
     "output_type": "display_data"
    },
    {
     "name": "stdout",
     "output_type": "stream"
    }
   ],
   "source": [
    "for i in range(0,142):\n",
    "    if i in (9,20,23,27,29,32,35,36,55,59,60,71,74,78,108,116,126,136):\n",
    "        continue\n",
    "    else:\n",
    "        img_id = i\n",
    "        image = ee.Image(collection_list.get(img_id))\n",
    "        capture_date = image_date(image)\n",
    "\n",
    "        blue = image.select('SR_B1')\n",
    "        green = image.select('SR_B2')\n",
    "        swir1 = image.select('SR_B5')\n",
    "        swir2 = image.select('SR_B7')\n",
    "        nir = image.select('SR_B4')\n",
    "\n",
    "        awei_sh = blue.add(green.multiply(2.5)).subtract((nir.add(swir1)).multiply(1.5)).subtract(swir2.multiply(0.25))\n",
    "\n",
    "        filename_rgb = r'\Lakes-Analysis-main\\data\\raw\\george_' + str(img_id) + '_RGB_' + capture_date + '.tif'\n",
    "        filename_awei = r'\Lakes-Analysis-main\\data\\processed\\george_' + str(img_id) + '_AWEI_' + capture_date + '.tif'\n",
    "\n",
    "        geemap.ee_export_image(image, filename=filename_rgb, scale=30, region=region, file_per_band=False)\n",
    "        geemap.ee_export_image(awei_sh, filename=filename_awei, scale=10, region=region, file_per_band=False)"
   ]
  },
  {
   "cell_type": "code",
   "execution_count": 322,
   "id": "e027c7a1-c567-4d97-9280-a9203067a794",
   "metadata": {
    "tags": []
   },
   "outputs": [
    {
     "data": {
      "text/html": [
       "\n",
       "            <style>\n",
       "                .geemap-dark {\n",
       "                    --jp-widgets-color: white;\n",
       "                    --jp-widgets-label-color: white;\n",
       "                    --jp-ui-font-color1: white;\n",
       "                    --jp-layout-color2: #454545;\n",
       "                    background-color: #383838;\n",
       "                }\n",
       "\n",
       "                .geemap-dark .jupyter-button {\n",
       "                    --jp-layout-color3: #383838;\n",
       "                }\n",
       "\n",
       "                .geemap-colab {\n",
       "                    background-color: var(--colab-primary-surface-color, white);\n",
       "                }\n",
       "\n",
       "                .geemap-colab .jupyter-button {\n",
       "                    --jp-layout-color3: var(--colab-primary-surface-color, white);\n",
       "                }\n",
       "            </style>\n",
       "            "
      ],
      "text/plain": [
       "<IPython.core.display.HTML object>"
      ]
     },
     "metadata": {},
     "output_type": "display_data"
    },
    {
     "name": "stdout",
     "output_type": "stream",
     "text": [
      "1987-09-18\n"
     ]
    },
    {
     "data": {
      "application/vnd.jupyter.widget-view+json": {
       "model_id": "b48773c9965d40f4bace779b15420ea4",
       "version_major": 2,
       "version_minor": 0
      },
      "text/plain": [
       "Map(center=[-35.08, 149.42], controls=(WidgetControl(options=['position', 'transparent_bg'], widget=SearchData…"
      ]
     },
     "execution_count": 322,
     "metadata": {},
     "output_type": "execute_result"
    }
   ],
   "source": [
    "img_id = 143\n",
    "image = ee.Image(collection_list.get(img_id))\n",
    "capture_date = image_date(image)\n",
    "print(capture_date)\n",
    "\n",
    "vis_RGB = {\n",
    "    'bands': ['SR_B3', 'SR_B2', 'SR_B1'],\n",
    "    'min': 0.0,\n",
    "    'max': 0.3,\n",
    "}\n",
    "\n",
    "blue = image.select('SR_B1')\n",
    "green = image.select('SR_B2')\n",
    "swir1 = image.select('SR_B5')\n",
    "swir2 = image.select('SR_B7')\n",
    "nir = image.select('SR_B4')\n",
    "\n",
    "awei_sh = blue.add(green.multiply(2.5)).subtract((nir.add(swir1)).multiply(1.5)).subtract(swir2.multiply(0.25))\n",
    "\n",
    "filename_rgb = r'\Lakes-Analysis-main\\data\\raw\\george_' + str(img_id) + '_RGB_' + capture_date + '.tif'\n",
    "filename_awei = r'\Lakes-Analysis-main\\data\\processed\\george_' + str(img_id) + '_AWEI_' + capture_date + '.tif'\n",
    "\n",
    "#geemap.ee_export_image(image, filename=filename_rgb, scale=30, region=region, file_per_band=False)\n",
    "#geemap.ee_export_image(awei_sh, filename=filename_awei, scale=10, region=region, file_per_band=False)\n",
    "\n",
    "m_rgb = geemap.Map()\n",
    "m_rgb.set_center(149.42, -35.08,11)\n",
    "m_rgb.add_layer(image.clip(region), vis_RGB, 'RGB')\n",
    "m_rgb"
   ]
  },
  {
   "cell_type": "code",
   "execution_count": 317,
   "id": "5380d41f-749a-4648-8a05-5cde01677c5c",
   "metadata": {
    "tags": []
   },
   "outputs": [
    {
     "data": {
      "text/html": [
       "\n",
       "            <style>\n",
       "                .geemap-dark {\n",
       "                    --jp-widgets-color: white;\n",
       "                    --jp-widgets-label-color: white;\n",
       "                    --jp-ui-font-color1: white;\n",
       "                    --jp-layout-color2: #454545;\n",
       "                    background-color: #383838;\n",
       "                }\n",
       "\n",
       "                .geemap-dark .jupyter-button {\n",
       "                    --jp-layout-color3: #383838;\n",
       "                }\n",
       "\n",
       "                .geemap-colab {\n",
       "                    background-color: var(--colab-primary-surface-color, white);\n",
       "                }\n",
       "\n",
       "                .geemap-colab .jupyter-button {\n",
       "                    --jp-layout-color3: var(--colab-primary-surface-color, white);\n",
       "                }\n",
       "            </style>\n",
       "            "
      ],
      "text/plain": [
       "<IPython.core.display.HTML object>"
      ]
     },
     "metadata": {},
     "output_type": "display_data"
    },
    {
     "data": {
      "application/vnd.jupyter.widget-view+json": {
       "model_id": "20c660feb84a407f8142b4e2587a0f71",
       "version_major": 2,
       "version_minor": 0
      },
      "text/plain": [
       "Map(center=[-35.08, 149.42], controls=(WidgetControl(options=['position', 'transparent_bg'], widget=SearchData…"
      ]
     },
     "execution_count": 317,
     "metadata": {},
     "output_type": "execute_result"
    }
   ],
   "source": [
    "\n",
    "vis_AWEI = {\n",
    "  'min': 0,\n",
    "  'max': 1,\n",
    "  'palette': ['white', 'blue']\n",
    "}\n",
    "\n",
    "m_awei = geemap.Map()\n",
    "m_awei.set_center(149.42, -35.08,10)\n",
    "m_awei.add_layer(awei_sh.clip(region), vis_AWEI, 'AWEI (shadows)')\n",
    "m_awei"
   ]
  }
 ],
 "metadata": {
  "kernelspec": {
   "display_name": "Python 3 (ipykernel)",
   "language": "python",
   "name": "python3"
  },
  "language_info": {
   "codemirror_mode": {
    "name": "ipython",
    "version": 3
   },
   "file_extension": ".py",
   "mimetype": "text/x-python",
   "name": "python",
   "nbconvert_exporter": "python",
   "pygments_lexer": "ipython3",
   "version": "3.11.5"
  }
 },
 "nbformat": 4,
 "nbformat_minor": 5
}
