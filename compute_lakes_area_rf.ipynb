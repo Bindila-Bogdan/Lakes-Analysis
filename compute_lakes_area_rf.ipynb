{
 "cells": [
  {
   "cell_type": "markdown",
   "metadata": {
    "user_expressions": []
   },
   "source": [
    "# Pipeline for estimating lakes area"
   ]
  },
  {
   "cell_type": "markdown",
   "metadata": {
    "user_expressions": []
   },
   "source": [
    "### 0. Import libraries and load data"
   ]
  },
  {
   "cell_type": "code",
   "execution_count": null,
   "metadata": {
    "tags": []
   },
   "outputs": [],
   "source": [
    "%reload_ext autoreload\n",
    "%matplotlib inline\n",
    "%autoreload 2\n",
    "\n",
    "from src.model_trainer import *\n",
    "from src.data_loader import *\n",
    "from src.lake_analyzer import *\n",
    "\n",
    "import warnings\n",
    "import numpy as np\n",
    "import pandas as pd\n",
    "from tqdm import tqdm\n",
    "warnings.filterwarnings(\"ignore\")\n",
    "\n",
    "TRAIN_LAKES = [\"george\", \"walker\", \"melincue\"]\n",
    "TEST_LAKES = [\"mono\"]"
   ]
  },
  {
   "cell_type": "code",
   "execution_count": null,
   "metadata": {
    "tags": []
   },
   "outputs": [],
   "source": [
    "train_data, data_indices = load_lakes(TRAIN_LAKES)\n",
    "test_data, _ = load_lakes(TEST_LAKES)\n",
    "\n",
    "train_data_indicies = [list(range(len(train_data)))]\n",
    "test_data_indicies = [list(range(len(test_data)))]"
   ]
  },
  {
   "cell_type": "markdown",
   "metadata": {
    "user_expressions": []
   },
   "source": [
    "### 1. Train and optimize lake detector with cross-validation"
   ]
  },
  {
   "cell_type": "code",
   "execution_count": null,
   "metadata": {
    "tags": []
   },
   "outputs": [],
   "source": [
    "# run 3-fold cross-validation with the Random Forest model\n",
    "f1_train, kappa_train, f1_val, kappa_val, _ = cross_validation_rf(train_data, data_indices)\n",
    "print(f\"F1 train: {f1_train}\\nKappa train: {kappa_train}\\n\\nF1 val: {f1_val}\\nKappa val: {kappa_val}\")"
   ]
  },
  {
   "cell_type": "code",
   "execution_count": null,
   "metadata": {
    "tags": []
   },
   "outputs": [],
   "source": [
    "# re-train model with the entire train set\n",
    "_, _, _, _, trained_rf_classifier = cross_validation_rf(train_data, train_data_indicies)\n"
   ]
  },
  {
   "cell_type": "code",
   "execution_count": null,
   "metadata": {
    "tags": []
   },
   "outputs": [],
   "source": [
    "# get predictions for the train dataset\n",
    "train_detections = predict_rf(train_data, trained_rf_classifier)\n"
   ]
  },
  {
   "cell_type": "markdown",
   "metadata": {
    "user_expressions": []
   },
   "source": [
    "### 2. Test lake detector"
   ]
  },
  {
   "cell_type": "code",
   "execution_count": null,
   "metadata": {
    "tags": []
   },
   "outputs": [],
   "source": [
    "# get predictions for the test dataset\n",
    "test_detections = predict_rf(test_data, trained_rf_classifier)\n"
   ]
  },
  {
   "cell_type": "code",
   "execution_count": null,
   "metadata": {
    "tags": []
   },
   "outputs": [],
   "source": [
    "# compute the test metrics with the current threshold\n",
    "f1_test, kappa_test, _, _, _ = cross_validation_rf(test_data, test_data_indicies, trained_rf_classifier)\n",
    "print(f\"Test F1: {f1_test}\\nTest kappa: {kappa_test}\")\n"
   ]
  },
  {
   "cell_type": "markdown",
   "metadata": {
    "tags": [],
    "user_expressions": []
   },
   "source": [
    "### 3. Analyze model"
   ]
  },
  {
   "cell_type": "code",
   "execution_count": null,
   "metadata": {
    "tags": []
   },
   "outputs": [],
   "source": [
    "plot_feature_importance(trained_rf_classifier)"
   ]
  },
  {
   "cell_type": "markdown",
   "metadata": {
    "user_expressions": []
   },
   "source": [
    "### 4. Analyze lake evolution"
   ]
  },
  {
   "cell_type": "code",
   "execution_count": null,
   "metadata": {
    "tags": []
   },
   "outputs": [],
   "source": [
    "analyze_lake(\"mono\", test_data, test_detections)\n"
   ]
  },
  {
   "cell_type": "code",
   "execution_count": null,
   "metadata": {
    "tags": []
   },
   "outputs": [],
   "source": [
    "analyze_lake(\"george\", train_data, train_detections)\n"
   ]
  },
  {
   "cell_type": "code",
   "execution_count": null,
   "metadata": {
    "tags": []
   },
   "outputs": [],
   "source": [
    "analyze_lake(\"walker\", train_data, train_detections)\n"
   ]
  },
  {
   "cell_type": "code",
   "execution_count": null,
   "metadata": {
    "tags": []
   },
   "outputs": [],
   "source": [
    "analyze_lake(\"melincue\", train_data, train_detections)\n"
   ]
  }
 ],
 "metadata": {
  "kernelspec": {
   "display_name": "Python",
   "language": "python",
   "name": "python3"
  },
  "language_info": {
   "codemirror_mode": {
    "name": "ipython",
    "version": 3
   },
   "file_extension": ".py",
   "mimetype": "text/x-python",
   "name": "python",
   "nbconvert_exporter": "python",
   "pygments_lexer": "ipython3",
   "version": "3.8.10"
  }
 },
 "nbformat": 4,
 "nbformat_minor": 4
}
