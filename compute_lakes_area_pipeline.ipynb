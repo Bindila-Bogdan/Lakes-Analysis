{
 "cells": [
  {
   "cell_type": "markdown",
   "metadata": {},
   "source": [
    "# Compute lake area"
   ]
  },
  {
   "cell_type": "markdown",
   "metadata": {},
   "source": [
    "### 0. Import libraries and load data"
   ]
  },
  {
   "cell_type": "code",
   "execution_count": 63,
   "metadata": {},
   "outputs": [],
   "source": [
    "import os\n",
    "import cv2\n",
    "import sys\n",
    "import copy\n",
    "import rasterio\n",
    "import numpy as np\n",
    "import pandas as pd\n",
    "from tqdm import tqdm\n",
    "import plotly.express as px\n",
    "import matplotlib.pyplot as plt\n",
    "from ipywidgets import interact, widgets\n",
    "from matplotlib.colors import ListedColormap\n",
    "from sklearn.metrics import f1_score, cohen_kappa_score\n",
    "from scipy.ndimage import binary_dilation, binary_closing\n",
    "\n",
    "\n",
    "plt.style.use('seaborn-v0_8')\n",
    "\n",
    "TRAIN_LAKES = [\"abert\", \"mono\", \"nakuru\"]\n",
    "TEST_LAKES = [\"walker\"]\n",
    "\n",
    "FIRST_DATE = \"1984-03\"\n",
    "LAST_DATE = \"2012-04\"\n",
    "DILATION_SIZE = 3\n",
    "SPATIAL_RESOLUTION = 30\n",
    "MISSING_DATA_THRESHOLD = 0.5\n",
    "DATA_PATH = \"../data/{lake_name}/\"\n",
    "BLUE_BAND = 1\n",
    "GREEN_BAND = 2\n",
    "RED_BAND = 3\n",
    "WATER_INDEX_BAND = 20\n",
    "GROUND_TRUTH_BAND = 21\n",
    "\n",
    "%matplotlib inline"
   ]
  },
  {
   "cell_type": "code",
   "execution_count": 64,
   "metadata": {},
   "outputs": [],
   "source": [
    "def load_lakes(lake_names):\n",
    "    # create a sorted distrionary by date that stores for each date of the specified lakes all the bands of interest\n",
    "    names_dates = []\n",
    "    bands = []\n",
    "\n",
    "    for lake_name in lake_names:\n",
    "        # read data for current lake\n",
    "        dates = [date for date in os.listdir(DATA_PATH.format(lake_name=lake_name))]\n",
    "        maps = [rasterio.open(DATA_PATH.format(lake_name=lake_name) + date) for date in dates]\n",
    "\n",
    "        names_dates_current_lake = [lake_name + \"_\"+ date[:-4] for date in dates]\n",
    "        # select bands of interest\n",
    "        bands_current_lake = [\n",
    "            [\n",
    "                map.read(band_index)\n",
    "                for band_index in [\n",
    "                    WATER_INDEX_BAND,\n",
    "                    GROUND_TRUTH_BAND,\n",
    "                    RED_BAND,\n",
    "                    GREEN_BAND,\n",
    "                    BLUE_BAND,\n",
    "                ]\n",
    "            ]\n",
    "            for map in maps\n",
    "        ]\n",
    "\n",
    "        # store the data for the current lake\n",
    "        names_dates.extend(names_dates_current_lake)\n",
    "        bands.extend(bands_current_lake)\n",
    "\n",
    "    # build the dictioanry and return it\n",
    "    data = {k: v for k, v in sorted(dict(zip(names_dates, bands)).items(), key=lambda x: x[0])}\n",
    "\n",
    "    return data\n"
   ]
  },
  {
   "cell_type": "code",
   "execution_count": 65,
   "metadata": {},
   "outputs": [],
   "source": [
    "train_data = load_lakes(TRAIN_LAKES)\n",
    "test_data = load_lakes(TEST_LAKES)"
   ]
  },
  {
   "cell_type": "markdown",
   "metadata": {},
   "source": [
    "### 2. Train lake detector"
   ]
  },
  {
   "cell_type": "code",
   "execution_count": 24,
   "metadata": {},
   "outputs": [],
   "source": [
    "def get_min_max_values(data):\n",
    "    # get the global min and max values of the water index across the dataset\n",
    "    min_value = sys.maxsize\n",
    "    max_value = -sys.maxsize\n",
    "\n",
    "    for bands in data.values():\n",
    "        min_value = min(min_value, bands[0].flatten().min())\n",
    "        max_value = max(max_value, bands[0].flatten().max())\n",
    "\n",
    "    return min_value, max_value"
   ]
  },
  {
   "cell_type": "code",
   "execution_count": 25,
   "metadata": {},
   "outputs": [],
   "source": [
    "def preprocess_ground_truth(ground_truth):\n",
    "    ground_truth_copy = copy.deepcopy(ground_truth) \n",
    "    # replace no data 0 with 3\n",
    "    ground_truth_copy[ground_truth_copy == 0] = 3\n",
    "    # replace water detection 2 with 0 for water\n",
    "    ground_truth_copy[ground_truth_copy == 2] = 0\n",
    "    # represent water with 1 and no water with 0\n",
    "    ground_truth_copy = 1 - ground_truth_copy\n",
    "\n",
    "    return ground_truth_copy"
   ]
  },
  {
   "cell_type": "code",
   "execution_count": 49,
   "metadata": {},
   "outputs": [],
   "source": [
    "def compute_scores_per_fold(data, data_indices, threshold):\n",
    "    # initialize values\n",
    "    f1 = 0\n",
    "    kappa = 0\n",
    "    number_of_images = 0\n",
    "\n",
    "    # iterate over data that have an index from the passed list\n",
    "    for index in data_indices:\n",
    "        water_detection = (list(data.values())[index][0] > threshold).flatten()\n",
    "        ground_truth = list(data.values())[index][1]\n",
    "\n",
    "        # consider the ground truth only if it has less than 50% missing data\n",
    "        if sum(ground_truth.flatten() == 0) / len(ground_truth.flatten()) <= MISSING_DATA_THRESHOLD:\n",
    "            preprocessed_ground_truth = preprocess_ground_truth(ground_truth).flatten()\n",
    "\n",
    "            # get the indices of pixels with data \n",
    "            empty_indices = np.where(preprocessed_ground_truth == -2)[0]\n",
    "\n",
    "            # if the ground truth contains any pixels with info compute the f1 score\n",
    "            if len(empty_indices) > 0:\n",
    "                number_of_images += 1\n",
    "                f1 += f1_score(np.delete(preprocessed_ground_truth, empty_indices), np.delete(water_detection, empty_indices), average='weighted')\n",
    "                kappa += cohen_kappa_score(np.delete(preprocessed_ground_truth, empty_indices), np.delete(water_detection, empty_indices))\n",
    "\n",
    "    return f1, kappa, number_of_images"
   ]
  },
  {
   "cell_type": "code",
   "execution_count": 50,
   "metadata": {},
   "outputs": [],
   "source": [
    "def compute_scores_per_dataset(data, data_indices, threshold):\n",
    "    f1_score_cum = 0\n",
    "    kappa_score_cum = 0\n",
    "    number_of_images_cum = 0\n",
    "    \n",
    "    # compute metrics for each fold\n",
    "    for data_indices_subset in data_indices:\n",
    "        f1, kappa, number_of_images = compute_scores_per_fold(data, data_indices_subset, threshold)\n",
    "        f1_score_cum += f1\n",
    "        kappa_score_cum += kappa\n",
    "        number_of_images_cum += number_of_images\n",
    "\n",
    "    # compute the average metric for each threshold\n",
    "    return f1_score_cum / number_of_images_cum, kappa_score_cum / number_of_images_cum\n"
   ]
  },
  {
   "cell_type": "code",
   "execution_count": 51,
   "metadata": {},
   "outputs": [
    {
     "name": "stderr",
     "output_type": "stream",
     "text": [
      "  0%|          | 0/10 [00:00<?, ?it/s]"
     ]
    },
    {
     "name": "stderr",
     "output_type": "stream",
     "text": [
      "100%|██████████| 10/10 [01:08<00:00,  6.81s/it]\n"
     ]
    }
   ],
   "source": [
    "min_value, max_value = get_min_max_values(train_data)\n",
    "# define the space for thresholds\n",
    "thresholds =  np.linspace(min_value, max_value, 10)\n",
    "\n",
    "# split data indices into folds, so that in each subset are indices of 2 lakes\n",
    "data_indices = [[index for index, name_date in enumerate(list(train_data.keys())) if lake_name not in name_date] for lake_name in TRAIN_LAKES]\n",
    "\n",
    "f1_scores = []\n",
    "kappa_scores = []\n",
    "\n",
    "# go over each threshold\n",
    "for threshold in tqdm(thresholds):\n",
    "    # compute the average metric for the current threshold\n",
    "    avg_f1, avg_kappa = compute_scores_per_dataset(train_data, data_indices, threshold)\n",
    "\n",
    "    f1_scores.append(avg_f1)\n",
    "    kappa_scores.append(avg_kappa)"
   ]
  },
  {
   "cell_type": "code",
   "execution_count": 52,
   "metadata": {},
   "outputs": [
    {
     "data": {
      "text/html": [
       "<div>\n",
       "<style scoped>\n",
       "    .dataframe tbody tr th:only-of-type {\n",
       "        vertical-align: middle;\n",
       "    }\n",
       "\n",
       "    .dataframe tbody tr th {\n",
       "        vertical-align: top;\n",
       "    }\n",
       "\n",
       "    .dataframe thead th {\n",
       "        text-align: right;\n",
       "    }\n",
       "</style>\n",
       "<table border=\"1\" class=\"dataframe\">\n",
       "  <thead>\n",
       "    <tr style=\"text-align: right;\">\n",
       "      <th></th>\n",
       "      <th>threshold</th>\n",
       "      <th>f1_score</th>\n",
       "      <th>kappa_score</th>\n",
       "    </tr>\n",
       "  </thead>\n",
       "  <tbody>\n",
       "    <tr>\n",
       "      <th>8</th>\n",
       "      <td>0.129782</td>\n",
       "      <td>0.923996</td>\n",
       "      <td>0.804783</td>\n",
       "    </tr>\n",
       "    <tr>\n",
       "      <th>7</th>\n",
       "      <td>-0.653812</td>\n",
       "      <td>0.785286</td>\n",
       "      <td>0.525908</td>\n",
       "    </tr>\n",
       "    <tr>\n",
       "      <th>9</th>\n",
       "      <td>0.913376</td>\n",
       "      <td>0.628310</td>\n",
       "      <td>0.000000</td>\n",
       "    </tr>\n",
       "    <tr>\n",
       "      <th>6</th>\n",
       "      <td>-1.437406</td>\n",
       "      <td>0.188897</td>\n",
       "      <td>0.033251</td>\n",
       "    </tr>\n",
       "    <tr>\n",
       "      <th>5</th>\n",
       "      <td>-2.221000</td>\n",
       "      <td>0.123413</td>\n",
       "      <td>0.005063</td>\n",
       "    </tr>\n",
       "    <tr>\n",
       "      <th>4</th>\n",
       "      <td>-3.004595</td>\n",
       "      <td>0.112253</td>\n",
       "      <td>0.000190</td>\n",
       "    </tr>\n",
       "    <tr>\n",
       "      <th>1</th>\n",
       "      <td>-5.355377</td>\n",
       "      <td>0.111821</td>\n",
       "      <td>0.000003</td>\n",
       "    </tr>\n",
       "    <tr>\n",
       "      <th>2</th>\n",
       "      <td>-4.571783</td>\n",
       "      <td>0.111821</td>\n",
       "      <td>0.000003</td>\n",
       "    </tr>\n",
       "    <tr>\n",
       "      <th>3</th>\n",
       "      <td>-3.788189</td>\n",
       "      <td>0.111821</td>\n",
       "      <td>0.000003</td>\n",
       "    </tr>\n",
       "    <tr>\n",
       "      <th>0</th>\n",
       "      <td>-6.138971</td>\n",
       "      <td>0.111816</td>\n",
       "      <td>0.000001</td>\n",
       "    </tr>\n",
       "  </tbody>\n",
       "</table>\n",
       "</div>"
      ],
      "text/plain": [
       "   threshold  f1_score  kappa_score\n",
       "8   0.129782  0.923996     0.804783\n",
       "7  -0.653812  0.785286     0.525908\n",
       "9   0.913376  0.628310     0.000000\n",
       "6  -1.437406  0.188897     0.033251\n",
       "5  -2.221000  0.123413     0.005063\n",
       "4  -3.004595  0.112253     0.000190\n",
       "1  -5.355377  0.111821     0.000003\n",
       "2  -4.571783  0.111821     0.000003\n",
       "3  -3.788189  0.111821     0.000003\n",
       "0  -6.138971  0.111816     0.000001"
      ]
     },
     "execution_count": 52,
     "metadata": {},
     "output_type": "execute_result"
    }
   ],
   "source": [
    "threshold_scores = pd.DataFrame({\"threshold\": thresholds, \"f1_score\": f1_scores, \"kappa_score\": kappa_scores}).sort_values(\"f1_score\", ascending=False)\n",
    "threshold_scores"
   ]
  },
  {
   "cell_type": "code",
   "execution_count": null,
   "metadata": {},
   "outputs": [],
   "source": [
    "def predict(data, threshold):\n",
    "    # create a list that stores the detections obtained with the best threshold\n",
    "    detections = []\n",
    "\n",
    "    for date in data.keys():\n",
    "        detections.append(data[date][0] > threshold)\n",
    "\n",
    "    return detections"
   ]
  },
  {
   "cell_type": "code",
   "execution_count": 140,
   "metadata": {},
   "outputs": [],
   "source": [
    "best_threshold = threshold_scores[\"threshold\"].iloc[0]\n",
    "train_detections = predict(train_data, best_threshold)"
   ]
  },
  {
   "cell_type": "markdown",
   "metadata": {},
   "source": [
    "### 3. Test lake detector"
   ]
  },
  {
   "cell_type": "code",
   "execution_count": 141,
   "metadata": {},
   "outputs": [
    {
     "name": "stdout",
     "output_type": "stream",
     "text": [
      "Test F1: 0.9956829623534279\n",
      "Test kappa: 0.9911412070637154\n"
     ]
    }
   ],
   "source": [
    "test_detections = predict(test_data, best_threshold)\n",
    "\n",
    "# compute the test metrics with the current threshold\n",
    "avg_f1, avg_kappa = compute_scores_per_dataset(test_data, [list(range(len(test_data)))], best_threshold)\n",
    "print(f\"Test F1: {avg_f1}\\nTest kappa: {avg_kappa}\")"
   ]
  },
  {
   "cell_type": "markdown",
   "metadata": {},
   "source": [
    "### 4. Analyze lake evolution"
   ]
  },
  {
   "cell_type": "code",
   "execution_count": 157,
   "metadata": {},
   "outputs": [
    {
     "data": {
      "image/png": "[encoded data removed]",
      "text/plain": [
       "<Figure size 800x550 with 1 Axes>"
      ]
     },
     "metadata": {},
     "output_type": "display_data"
    },
    {
     "name": "stderr",
     "output_type": "stream",
     "text": [
      "100%|██████████| 3/3 [00:00<00:00,  6.39it/s]\n"
     ]
    },
    {
     "data": {
      "application/vnd.plotly.v1+json": {
       "config": {
        "plotlyServerURL": "https://plot.ly"
       },
       "data": [
        {
         "hovertemplate": "date=%{x}<br>area in square kilometers=%{y}<extra></extra>",
         "legendgroup": "",
         "line": {
          "color": "#636efa",
          "dash": "solid"
         },
         "marker": {
          "symbol": "circle"
         },
         "mode": "lines+markers",
         "name": "",
         "orientation": "v",
         "showlegend": false,
         "type": "scatter",
         "x": [
          "1988-08-03",
          "1988-09-04",
          "1988-10-06"
         ],
         "xaxis": "x",
         "y": [
          109.2618,
          44.9334,
          115.6734
         ],
         "yaxis": "y"
        }
       ],
       "layout": {
        "legend": {
         "tracegroupgap": 0
        },
        "template": {
         "data": {
          "bar": [
           {
            "error_x": {
             "color": "#2a3f5f"
            },
            "error_y": {
             "color": "#2a3f5f"
            },
            "marker": {
             "line": {
              "color": "#E5ECF6",
              "width": 0.5
             },
             "pattern": {
              "fillmode": "overlay",
              "size": 10,
              "solidity": 0.2
             }
            },
            "type": "bar"
           }
          ],
          "barpolar": [
           {
            "marker": {
             "line": {
              "color": "#E5ECF6",
              "width": 0.5
             },
             "pattern": {
              "fillmode": "overlay",
              "size": 10,
              "solidity": 0.2
             }
            },
            "type": "barpolar"
           }
          ],
          "carpet": [
           {
            "aaxis": {
             "endlinecolor": "#2a3f5f",
             "gridcolor": "white",
             "linecolor": "white",
             "minorgridcolor": "white",
             "startlinecolor": "#2a3f5f"
            },
            "baxis": {
             "endlinecolor": "#2a3f5f",
             "gridcolor": "white",
             "linecolor": "white",
             "minorgridcolor": "white",
             "startlinecolor": "#2a3f5f"
            },
            "type": "carpet"
           }
          ],
          "choropleth": [
           {
            "colorbar": {
             "outlinewidth": 0,
             "ticks": ""
            },
            "type": "choropleth"
           }
          ],
          "contour": [
           {
            "colorbar": {
             "outlinewidth": 0,
             "ticks": ""
            },
            "colorscale": [
             [
              0,
              "#0d0887"
             ],
             [
              0.1111111111111111,
              "#46039f"
             ],
             [
              0.2222222222222222,
              "#7201a8"
             ],
             [
              0.3333333333333333,
              "#9c179e"
             ],
             [
              0.4444444444444444,
              "#bd3786"
             ],
             [
              0.5555555555555556,
              "#d8576b"
             ],
             [
              0.6666666666666666,
              "#ed7953"
             ],
             [
              0.7777777777777778,
              "#fb9f3a"
             ],
             [
              0.8888888888888888,
              "#fdca26"
             ],
             [
              1,
              "#f0f921"
             ]
            ],
            "type": "contour"
           }
          ],
          "contourcarpet": [
           {
            "colorbar": {
             "outlinewidth": 0,
             "ticks": ""
            },
            "type": "contourcarpet"
           }
          ],
          "heatmap": [
           {
            "colorbar": {
             "outlinewidth": 0,
             "ticks": ""
            },
            "colorscale": [
             [
              0,
              "#0d0887"
             ],
             [
              0.1111111111111111,
              "#46039f"
             ],
             [
              0.2222222222222222,
              "#7201a8"
             ],
             [
              0.3333333333333333,
              "#9c179e"
             ],
             [
              0.4444444444444444,
              "#bd3786"
             ],
             [
              0.5555555555555556,
              "#d8576b"
             ],
             [
              0.6666666666666666,
              "#ed7953"
             ],
             [
              0.7777777777777778,
              "#fb9f3a"
             ],
             [
              0.8888888888888888,
              "#fdca26"
             ],
             [
              1,
              "#f0f921"
             ]
            ],
            "type": "heatmap"
           }
          ],
          "heatmapgl": [
           {
            "colorbar": {
             "outlinewidth": 0,
             "ticks": ""
            },
            "colorscale": [
             [
              0,
              "#0d0887"
             ],
             [
              0.1111111111111111,
              "#46039f"
             ],
             [
              0.2222222222222222,
              "#7201a8"
             ],
             [
              0.3333333333333333,
              "#9c179e"
             ],
             [
              0.4444444444444444,
              "#bd3786"
             ],
             [
              0.5555555555555556,
              "#d8576b"
             ],
             [
              0.6666666666666666,
              "#ed7953"
             ],
             [
              0.7777777777777778,
              "#fb9f3a"
             ],
             [
              0.8888888888888888,
              "#fdca26"
             ],
             [
              1,
              "#f0f921"
             ]
            ],
            "type": "heatmapgl"
           }
          ],
          "histogram": [
           {
            "marker": {
             "pattern": {
              "fillmode": "overlay",
              "size": 10,
              "solidity": 0.2
             }
            },
            "type": "histogram"
           }
          ],
          "histogram2d": [
           {
            "colorbar": {
             "outlinewidth": 0,
             "ticks": ""
            },
            "colorscale": [
             [
              0,
              "#0d0887"
             ],
             [
              0.1111111111111111,
              "#46039f"
             ],
             [
              0.2222222222222222,
              "#7201a8"
             ],
             [
              0.3333333333333333,
              "#9c179e"
             ],
             [
              0.4444444444444444,
              "#bd3786"
             ],
             [
              0.5555555555555556,
              "#d8576b"
             ],
             [
              0.6666666666666666,
              "#ed7953"
             ],
             [
              0.7777777777777778,
              "#fb9f3a"
             ],
             [
              0.8888888888888888,
              "#fdca26"
             ],
             [
              1,
              "#f0f921"
             ]
            ],
            "type": "histogram2d"
           }
          ],
          "histogram2dcontour": [
           {
            "colorbar": {
             "outlinewidth": 0,
             "ticks": ""
            },
            "colorscale": [
             [
              0,
              "#0d0887"
             ],
             [
              0.1111111111111111,
              "#46039f"
             ],
             [
              0.2222222222222222,
              "#7201a8"
             ],
             [
              0.3333333333333333,
              "#9c179e"
             ],
             [
              0.4444444444444444,
              "#bd3786"
             ],
             [
              0.5555555555555556,
              "#d8576b"
             ],
             [
              0.6666666666666666,
              "#ed7953"
             ],
             [
              0.7777777777777778,
              "#fb9f3a"
             ],
             [
              0.8888888888888888,
              "#fdca26"
             ],
             [
              1,
              "#f0f921"
             ]
            ],
            "type": "histogram2dcontour"
           }
          ],
          "mesh3d": [
           {
            "colorbar": {
             "outlinewidth": 0,
             "ticks": ""
            },
            "type": "mesh3d"
           }
          ],
          "parcoords": [
           {
            "line": {
             "colorbar": {
              "outlinewidth": 0,
              "ticks": ""
             }
            },
            "type": "parcoords"
           }
          ],
          "pie": [
           {
            "automargin": true,
            "type": "pie"
           }
          ],
          "scatter": [
           {
            "fillpattern": {
             "fillmode": "overlay",
             "size": 10,
             "solidity": 0.2
            },
            "type": "scatter"
           }
          ],
          "scatter3d": [
           {
            "line": {
             "colorbar": {
              "outlinewidth": 0,
              "ticks": ""
             }
            },
            "marker": {
             "colorbar": {
              "outlinewidth": 0,
              "ticks": ""
             }
            },
            "type": "scatter3d"
           }
          ],
          "scattercarpet": [
           {
            "marker": {
             "colorbar": {
              "outlinewidth": 0,
              "ticks": ""
             }
            },
            "type": "scattercarpet"
           }
          ],
          "scattergeo": [
           {
            "marker": {
             "colorbar": {
              "outlinewidth": 0,
              "ticks": ""
             }
            },
            "type": "scattergeo"
           }
          ],
          "scattergl": [
           {
            "marker": {
             "colorbar": {
              "outlinewidth": 0,
              "ticks": ""
             }
            },
            "type": "scattergl"
           }
          ],
          "scattermapbox": [
           {
            "marker": {
             "colorbar": {
              "outlinewidth": 0,
              "ticks": ""
             }
            },
            "type": "scattermapbox"
           }
          ],
          "scatterpolar": [
           {
            "marker": {
             "colorbar": {
              "outlinewidth": 0,
              "ticks": ""
             }
            },
            "type": "scatterpolar"
           }
          ],
          "scatterpolargl": [
           {
            "marker": {
             "colorbar": {
              "outlinewidth": 0,
              "ticks": ""
             }
            },
            "type": "scatterpolargl"
           }
          ],
          "scatterternary": [
           {
            "marker": {
             "colorbar": {
              "outlinewidth": 0,
              "ticks": ""
             }
            },
            "type": "scatterternary"
           }
          ],
          "surface": [
           {
            "colorbar": {
             "outlinewidth": 0,
             "ticks": ""
            },
            "colorscale": [
             [
              0,
              "#0d0887"
             ],
             [
              0.1111111111111111,
              "#46039f"
             ],
             [
              0.2222222222222222,
              "#7201a8"
             ],
             [
              0.3333333333333333,
              "#9c179e"
             ],
             [
              0.4444444444444444,
              "#bd3786"
             ],
             [
              0.5555555555555556,
              "#d8576b"
             ],
             [
              0.6666666666666666,
              "#ed7953"
             ],
             [
              0.7777777777777778,
              "#fb9f3a"
             ],
             [
              0.8888888888888888,
              "#fdca26"
             ],
             [
              1,
              "#f0f921"
             ]
            ],
            "type": "surface"
           }
          ],
          "table": [
           {
            "cells": {
             "fill": {
              "color": "#EBF0F8"
             },
             "line": {
              "color": "white"
             }
            },
            "header": {
             "fill": {
              "color": "#C8D4E3"
             },
             "line": {
              "color": "white"
             }
            },
            "type": "table"
           }
          ]
         },
         "layout": {
          "annotationdefaults": {
           "arrowcolor": "#2a3f5f",
           "arrowhead": 0,
           "arrowwidth": 1
          },
          "autotypenumbers": "strict",
          "coloraxis": {
           "colorbar": {
            "outlinewidth": 0,
            "ticks": ""
           }
          },
          "colorscale": {
           "diverging": [
            [
             0,
             "#8e0152"
            ],
            [
             0.1,
             "#c51b7d"
            ],
            [
             0.2,
             "#de77ae"
            ],
            [
             0.3,
             "#f1b6da"
            ],
            [
             0.4,
             "#fde0ef"
            ],
            [
             0.5,
             "#f7f7f7"
            ],
            [
             0.6,
             "#e6f5d0"
            ],
            [
             0.7,
             "#b8e186"
            ],
            [
             0.8,
             "#7fbc41"
            ],
            [
             0.9,
             "#4d9221"
            ],
            [
             1,
             "#276419"
            ]
           ],
           "sequential": [
            [
             0,
             "#0d0887"
            ],
            [
             0.1111111111111111,
             "#46039f"
            ],
            [
             0.2222222222222222,
             "#7201a8"
            ],
            [
             0.3333333333333333,
             "#9c179e"
            ],
            [
             0.4444444444444444,
             "#bd3786"
            ],
            [
             0.5555555555555556,
             "#d8576b"
            ],
            [
             0.6666666666666666,
             "#ed7953"
            ],
            [
             0.7777777777777778,
             "#fb9f3a"
            ],
            [
             0.8888888888888888,
             "#fdca26"
            ],
            [
             1,
             "#f0f921"
            ]
           ],
           "sequentialminus": [
            [
             0,
             "#0d0887"
            ],
            [
             0.1111111111111111,
             "#46039f"
            ],
            [
             0.2222222222222222,
             "#7201a8"
            ],
            [
             0.3333333333333333,
             "#9c179e"
            ],
            [
             0.4444444444444444,
             "#bd3786"
            ],
            [
             0.5555555555555556,
             "#d8576b"
            ],
            [
             0.6666666666666666,
             "#ed7953"
            ],
            [
             0.7777777777777778,
             "#fb9f3a"
            ],
            [
             0.8888888888888888,
             "#fdca26"
            ],
            [
             1,
             "#f0f921"
            ]
           ]
          },
          "colorway": [
           "#636efa",
           "#EF553B",
           "#00cc96",
           "#ab63fa",
           "#FFA15A",
           "#19d3f3",
           "#FF6692",
           "#B6E880",
           "#FF97FF",
           "#FECB52"
          ],
          "font": {
           "color": "#2a3f5f"
          },
          "geo": {
           "bgcolor": "white",
           "lakecolor": "white",
           "landcolor": "#E5ECF6",
           "showlakes": true,
           "showland": true,
           "subunitcolor": "white"
          },
          "hoverlabel": {
           "align": "left"
          },
          "hovermode": "closest",
          "mapbox": {
           "style": "light"
          },
          "paper_bgcolor": "white",
          "plot_bgcolor": "#E5ECF6",
          "polar": {
           "angularaxis": {
            "gridcolor": "white",
            "linecolor": "white",
            "ticks": ""
           },
           "bgcolor": "#E5ECF6",
           "radialaxis": {
            "gridcolor": "white",
            "linecolor": "white",
            "ticks": ""
           }
          },
          "scene": {
           "xaxis": {
            "backgroundcolor": "#E5ECF6",
            "gridcolor": "white",
            "gridwidth": 2,
            "linecolor": "white",
            "showbackground": true,
            "ticks": "",
            "zerolinecolor": "white"
           },
           "yaxis": {
            "backgroundcolor": "#E5ECF6",
            "gridcolor": "white",
            "gridwidth": 2,
            "linecolor": "white",
            "showbackground": true,
            "ticks": "",
            "zerolinecolor": "white"
           },
           "zaxis": {
            "backgroundcolor": "#E5ECF6",
            "gridcolor": "white",
            "gridwidth": 2,
            "linecolor": "white",
            "showbackground": true,
            "ticks": "",
            "zerolinecolor": "white"
           }
          },
          "shapedefaults": {
           "line": {
            "color": "#2a3f5f"
           }
          },
          "ternary": {
           "aaxis": {
            "gridcolor": "white",
            "linecolor": "white",
            "ticks": ""
           },
           "baxis": {
            "gridcolor": "white",
            "linecolor": "white",
            "ticks": ""
           },
           "bgcolor": "#E5ECF6",
           "caxis": {
            "gridcolor": "white",
            "linecolor": "white",
            "ticks": ""
           }
          },
          "title": {
           "x": 0.05
          },
          "xaxis": {
           "automargin": true,
           "gridcolor": "white",
           "linecolor": "white",
           "ticks": "",
           "title": {
            "standoff": 15
           },
           "zerolinecolor": "white",
           "zerolinewidth": 2
          },
          "yaxis": {
           "automargin": true,
           "gridcolor": "white",
           "linecolor": "white",
           "ticks": "",
           "title": {
            "standoff": 15
           },
           "zerolinecolor": "white",
           "zerolinewidth": 2
          }
         }
        },
        "title": {
         "text": "Observations of area evolution for lake Abert"
        },
        "xaxis": {
         "anchor": "y",
         "domain": [
          0,
          1
         ],
         "title": {
          "text": "date"
         }
        },
        "yaxis": {
         "anchor": "x",
         "domain": [
          0,
          1
         ],
         "title": {
          "text": "area in square kilometers"
         }
        }
       }
      }
     },
     "metadata": {},
     "output_type": "display_data"
    }
   ],
   "source": [
    "lake_name = \"abert\"\n",
    "\n",
    "indices = [index for index, date in enumerate(list(train_data.keys())) if lake_name in date]\n",
    "lake_detections = np.array(train_detections)[indices]\n",
    "\n",
    "largest_train_area_mask_overall, largest_train_area_overall, train_dilated_detections = get_largest_lake_mask(lake_detections)\n",
    "\n",
    "# display the mask of the lake when it has the largest area\n",
    "plt.imshow(largest_train_area_mask_overall)\n",
    "plt.title(f\"Largest train area of lake {lake_name}: {largest_train_area_overall}\")\n",
    "plt.axis(\"off\")\n",
    "\n",
    "plt.show()\n",
    "\n",
    "isolated_detections, filled_isolated_detections = remove_adjacent_water_bodies(lake_detections, largest_train_area_mask_overall)\n",
    "\n",
    "area_by_month = estimate_area_by_month(filled_isolated_detections, lake_name, list(train_data.keys()))\n",
    "\n",
    "plot_lake_area_by_month(train_detections, train_data, lake_name)"
   ]
  },
  {
   "cell_type": "code",
   "execution_count": null,
   "metadata": {},
   "outputs": [],
   "source": [
    "def display_image(index):\n",
    "\n",
    "    try: \n",
    "        if dilated_detections is not None:\n",
    "            fig, ax = plt.subplots(1, 6)\n",
    "            fig.set_size_inches(24, 6)\n",
    "    except NameError:\n",
    "        fig, ax = plt.subplots(1, 3)\n",
    "        fig.set_size_inches(14, 6)\n",
    "\n",
    "    date = list(data.keys())[index]\n",
    "\n",
    "    ax[0].imshow(data[date][0])\n",
    "    ax[0].set_title(\"Water index\")\n",
    "    ax[0].axis(\"off\")\n",
    "\n",
    "    ax[1].imshow(data[date][1])\n",
    "    ax[1].set_title(\"Ground truth\")\n",
    "    ax[1].axis(\"off\")\n",
    "\n",
    "    ax[2].imshow(best_detections[index])\n",
    "    ax[2].set_title(\"Detection\")\n",
    "    ax[2].axis(\"off\")\n",
    "\n",
    "    try:\n",
    "        if dilated_detections is not None:\n",
    "            ax[3].imshow(dilated_detections[index])\n",
    "            ax[3].set_title(\"Dilated detection\")\n",
    "            ax[3].axis(\"off\")\n",
    "\n",
    "            ax[4].imshow(isolated_detections[index])\n",
    "            ax[4].set_title(\"Isolated detection\")\n",
    "            ax[4].axis(\"off\")\n",
    "\n",
    "            ax[5].imshow(filled_isolated_detections[index])\n",
    "            ax[5].set_title(\"Filled isolated detection\")\n",
    "            ax[5].axis(\"off\")\n",
    "    except NameError:\n",
    "        pass\n",
    "\n",
    "    fig.suptitle(f\"Year-month: {date}\")\n",
    "\n",
    "    plt.show()\n",
    "    plt.close()\n",
    "\n",
    "interact(display_image, index=widgets.IntSlider(min=0, max=len(data) - 1, step=1, value=0))\n"
   ]
  },
  {
   "cell_type": "code",
   "execution_count": 158,
   "metadata": {},
   "outputs": [
    {
     "ename": "NameError",
     "evalue": "name 'display_image' is not defined",
     "output_type": "error",
     "traceback": [
      "\u001b[1;31m---------------------------------------------------------------------------\u001b[0m",
      "\u001b[1;31mNameError\u001b[0m                                 Traceback (most recent call last)",
      "Cell \u001b[1;32mIn[158], line 1\u001b[0m\n\u001b[1;32m----> 1\u001b[0m interact(\u001b[43mdisplay_image\u001b[49m, index\u001b[38;5;241m=\u001b[39mwidgets\u001b[38;5;241m.\u001b[39mIntSlider(\u001b[38;5;28mmin\u001b[39m\u001b[38;5;241m=\u001b[39m\u001b[38;5;241m0\u001b[39m, \u001b[38;5;28mmax\u001b[39m\u001b[38;5;241m=\u001b[39m\u001b[38;5;28mlen\u001b[39m(data) \u001b[38;5;241m-\u001b[39m \u001b[38;5;241m1\u001b[39m, step\u001b[38;5;241m=\u001b[39m\u001b[38;5;241m1\u001b[39m, value\u001b[38;5;241m=\u001b[39m\u001b[38;5;241m0\u001b[39m))\n",
      "\u001b[1;31mNameError\u001b[0m: name 'display_image' is not defined"
     ]
    }
   ],
   "source": [
    "interact(display_image, index=widgets.IntSlider(min=0, max=len(data) - 1, step=1, value=0))"
   ]
  },
  {
   "cell_type": "code",
   "execution_count": 155,
   "metadata": {},
   "outputs": [],
   "source": [
    "def get_largest_lake_mask(lake_detections):\n",
    "    # find the mask of the lake when it has the largest area\n",
    "    largest_area_overall = -sys.maxsize\n",
    "    largest_area_mask_overall = None\n",
    "    dilated_detections = []\n",
    "\n",
    "    # iterate over each observation of the lake\n",
    "    for i in range(len(lake_detections)):\n",
    "        largest_area = -sys.maxsize\n",
    "        largest_area_mask = None\n",
    "\n",
    "        # dilate the image and store it\n",
    "        diltated_img = binary_dilation(lake_detections[i], structure=np.ones((DILATION_SIZE, DILATION_SIZE), np.bool_))\n",
    "        diltated_img_cast = diltated_img.astype(np.uint8) * 255\n",
    "        dilated_detections.append(diltated_img)\n",
    "\n",
    "        # get the connected components\n",
    "        ret, labels = cv2.connectedComponents(diltated_img_cast)\n",
    "\n",
    "        # find the biggest connected component from the current observation\n",
    "        for label in range(1, ret):\n",
    "            mask = np.zeros(labels.shape, dtype=np.uint8)\n",
    "            mask[labels == label] = 1\n",
    "            mask_area = mask.sum()\n",
    "\n",
    "            if mask_area > largest_area:\n",
    "                largest_area = mask_area\n",
    "                largest_area_mask = mask\n",
    "\n",
    "        # if the lake has an area larger than the previous largest area, update the mask\n",
    "        if largest_area > largest_area_overall:\n",
    "            largest_area_overall = largest_area\n",
    "            largest_area_mask_overall = largest_area_mask\n",
    "\n",
    "    return largest_area_mask_overall, largest_area_overall, dilated_detections        \n"
   ]
  },
  {
   "cell_type": "code",
   "execution_count": 154,
   "metadata": {},
   "outputs": [],
   "source": [
    "def estimate_area_by_month(datections, lake_name, all_dates):\n",
    "    dates = [date[-10:] for date in all_dates if lake_name in date]\n",
    "    indices = [index for index, date in enumerate(all_dates) if lake_name in date]\n",
    "    lake_detections = np.array(datections)[indices]\n",
    "\n",
    "    # create a data frame that stores the lake area in square kilometers for every month with observations\n",
    "    areas = []\n",
    "\n",
    "    # pixel area in square kilometers\n",
    "    pixel_area = SPATIAL_RESOLUTION ** 2 / (1000 ** 2)\n",
    "\n",
    "    for detection in lake_detections:\n",
    "        areas.append(detection.sum() * pixel_area)\n",
    "\n",
    "    known_area_by_month = pd.DataFrame({\"date\": dates, \"area\": areas})\n",
    "\n",
    "    # create a data frame that contains the months with missing observations\n",
    "    missing_dates = []\n",
    "    ground_truth_months_trimmed = [date[:-3] for date in dates]\n",
    "\n",
    "    for year in range(int(FIRST_DATE[:4]), int(LAST_DATE[:4]) + 1):\n",
    "        for month in range(1, 13):\n",
    "            date = f\"{year}-{str(month).zfill(2)}\"\n",
    "\n",
    "            if (FIRST_DATE <= date <= LAST_DATE) and date not in ground_truth_months_trimmed:\n",
    "                missing_dates.append(date)\n",
    "\n",
    "    missing_area_by_month = pd.DataFrame({\"date\": missing_dates, \"area\": [np.nan] * len(missing_dates)})\n",
    "\n",
    "    # store in one data frame the lake area estimation for each month\n",
    "    area_by_month = pd.concat([known_area_by_month, missing_area_by_month]).sort_values(\"date\")\n",
    "    \n",
    "    return area_by_month"
   ]
  },
  {
   "cell_type": "code",
   "execution_count": 153,
   "metadata": {},
   "outputs": [],
   "source": [
    "def remove_adjacent_water_bodies(lake_detections, largest_area_mask_overall):\n",
    "    # remove all water detections that do not intersect with the largest found mask\n",
    "    isolated_detections = []\n",
    "    filled_isolated_detections = []\n",
    "\n",
    "    # iterate over each observation\n",
    "    for i in tqdm(range(len(lake_detections))):\n",
    "        # prepare the data\n",
    "        detection = lake_detections[i]\n",
    "        detection_cast = detection.astype(np.uint8) * 255\n",
    "\n",
    "        # get the connected components\n",
    "        ret, labels = cv2.connectedComponents(detection_cast)\n",
    "\n",
    "        # initiate the mask\n",
    "        mask = np.array(labels, dtype=np.uint32)\n",
    "\n",
    "        # remove all connected components that do not intersect with the largest found mask\n",
    "        for label in range(1, ret):\n",
    "            if (((mask == label).astype(np.uint8) + largest_area_mask_overall) == 2).sum() > 0:\n",
    "                mask[labels == label] = ret\n",
    "            else:\n",
    "                mask[labels == label] = 0\n",
    "\n",
    "        # store these isolated detections into an array\n",
    "        mask = (mask / ret).astype(np.uint8)\n",
    "        isolated_detections.append(mask)\n",
    "\n",
    "        # fill the holes in the image by applying a morphological closing operation\n",
    "        filled_mask = binary_closing(mask).astype(np.uint8)\n",
    "        filled_isolated_detections.append(filled_mask)\n",
    "\n",
    "    return isolated_detections, filled_isolated_detections"
   ]
  },
  {
   "cell_type": "code",
   "execution_count": 152,
   "metadata": {},
   "outputs": [],
   "source": [
    "def plot_lake_area_by_month(detections, data, lake_name):\n",
    "    # get estimated lake area by month\n",
    "    area_by_month = estimate_area_by_month(detections, lake_name, list(data.keys()))\n",
    "\n",
    "    # display lake area evolution\n",
    "    fig = px.line(\n",
    "        area_by_month[~area_by_month[\"area\"].isna()],\n",
    "        x=\"date\",\n",
    "        y=\"area\",\n",
    "        markers=True,\n",
    "        labels={\"area\": \"area in square kilometers\"},\n",
    "        title=f\"Observations of area evolution for lake {lake_name.capitalize()}\",\n",
    "    )\n",
    "    fig.show()\n"
   ]
  },
  {
   "cell_type": "markdown",
   "metadata": {},
   "source": [
    "### 6. Visualize the detection"
   ]
  },
  {
   "cell_type": "code",
   "execution_count": 22,
   "metadata": {},
   "outputs": [],
   "source": [
    "def prepare_visualization(data, filled_isolated_detections, largest_area_mask_overall):\n",
    "    # prepare detections and terrain images to be plotted\n",
    "    terrain_images = []\n",
    "    explained_detections = []\n",
    "\n",
    "    for i in range(len(data)):\n",
    "        detection = filled_isolated_detections[i].flatten()\n",
    "        ground_truth = list(data.values())[i][1].flatten()\n",
    "\n",
    "        # false positives\n",
    "        false_positives = np.intersect1d(np.intersect1d(np.where(detection == 1), np.where(ground_truth == 1)), np.where(largest_area_mask_overall.flatten() == 1))\n",
    "\n",
    "        # false negative\n",
    "        false_negatives = np.intersect1d(np.intersect1d(np.where(detection == 0), np.where(ground_truth == 2)), np.where(largest_area_mask_overall.flatten() == 1))\n",
    "\n",
    "        # add correct detections, false positives and false negatives\n",
    "        explained_detection = detection\n",
    "        explained_detection[false_positives] = 2\n",
    "        explained_detection[false_negatives] = 3\n",
    "\n",
    "        # store the expalined detection\n",
    "        explained_detections.append(explained_detection.reshape(largest_area_mask_overall.shape))\n",
    "\n",
    "        # create the terrain image by adding the RGB bands\n",
    "        terrain_image = np.dstack((list(data.values())[i][2], list(data.values())[i][3], list(data.values())[i][4]))  \n",
    "        \n",
    "        # scale the bands to have values between 0 and 1\n",
    "        for channel_index in range(3):\n",
    "            channel_data = terrain_image[:, :, channel_index]\n",
    "            channel_data_scaled = (channel_data - channel_data.min()) / (channel_data.max() - channel_data.min())\n",
    "            terrain_image[:, :, channel_index] = channel_data_scaled\n",
    "\n",
    "        terrain_images.append(terrain_image) \n",
    "\n",
    "    return explained_detections, terrain_images"
   ]
  },
  {
   "cell_type": "code",
   "execution_count": 23,
   "metadata": {},
   "outputs": [],
   "source": [
    "explained_detections, terrain_images = prepare_visualization(data, filled_isolated_detections, largest_area_mask_overall)"
   ]
  },
  {
   "cell_type": "code",
   "execution_count": 24,
   "metadata": {},
   "outputs": [
    {
     "data": {
      "application/vnd.jupyter.widget-view+json": {
       "model_id": "ffc6166d2a314233aa26528f87f768b1",
       "version_major": 2,
       "version_minor": 0
      },
      "text/plain": [
       "interactive(children=(IntSlider(value=0, description='index', max=5), Output()), _dom_classes=('widget-interac…"
      ]
     },
     "metadata": {},
     "output_type": "display_data"
    },
    {
     "data": {
      "text/plain": [
       "<function __main__.display_predictions(index)>"
      ]
     },
     "execution_count": 24,
     "metadata": {},
     "output_type": "execute_result"
    }
   ],
   "source": [
    "def display_predictions(index):\n",
    "    # display the lake  detection on top of the original satellite image\n",
    "    fig, ax = plt.subplots(1, 2)\n",
    "    fig.set_size_inches(10, 8)\n",
    "\n",
    "    date = list(data.keys())[index]\n",
    "\n",
    "    ax[0].imshow(terrain_images[index])\n",
    "    ax[0].axis(\"off\")\n",
    "\n",
    "    ax[1].imshow(terrain_images[index])\n",
    "    ax_1 = ax[1].imshow(explained_detections[index], alpha=1.0 * (explained_detections[index] > 0), cmap=ListedColormap([\"royalblue\", \"turquoise\", \"orangered\"]))\n",
    "    cbar = plt.colorbar(ax_1, ticks=[1, 2, 3], orientation='vertical', fraction=0.05, pad=0.04)\n",
    "    cbar.ax.set_yticklabels(['False negatives', 'Water', 'False positives'])  \n",
    "    ax[1].axis(\"off\")\n",
    "\n",
    "    fig.suptitle(f\"Prediction for {date}\")\n",
    "    plt.tight_layout()\n",
    "\n",
    "    plt.show()\n",
    "    plt.close()\n",
    "\n",
    "interact(display_predictions, index=widgets.IntSlider(min=0, max=len(data) - 1, step=1, value=0))\n"
   ]
  },
  {
   "cell_type": "code",
   "execution_count": null,
   "metadata": {},
   "outputs": [],
   "source": []
  }
 ],
 "metadata": {
  "kernelspec": {
   "display_name": "data_science",
   "language": "python",
   "name": "python3"
  },
  "language_info": {
   "codemirror_mode": {
    "name": "ipython",
    "version": 3
   },
   "file_extension": ".py",
   "mimetype": "text/x-python",
   "name": "python",
   "nbconvert_exporter": "python",
   "pygments_lexer": "ipython3",
   "version": "3.12.2"
  }
 },
 "nbformat": 4,
 "nbformat_minor": 2
}
