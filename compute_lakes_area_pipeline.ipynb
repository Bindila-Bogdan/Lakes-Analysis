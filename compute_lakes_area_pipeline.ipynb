{
 "cells": [
  {
   "cell_type": "markdown",
   "metadata": {},
   "source": [
    "# Pipeline for estimating lakes area"
   ]
  },
  {
   "cell_type": "markdown",
   "metadata": {},
   "source": [
    "### 0. Import libraries and load data"
   ]
  },
  {
   "cell_type": "code",
   "execution_count": 22,
   "metadata": {},
   "outputs": [],
   "source": [
    "%reload_ext autoreload\n",
    "%matplotlib inline\n",
    "%autoreload 2\n",
    "\n",
    "from src.model_trainer import *\n",
    "from src.data_loader import *\n",
    "from src.lake_analyzer import *\n",
    "\n",
    "import numpy as np\n",
    "import pandas as pd\n",
    "from tqdm import tqdm\n",
    "\n",
    "TRAIN_LAKES = [\"george\", \"mono\", \"melincue\"]\n",
    "TEST_LAKES = [\"walker\"]\n",
    "THRESHOLDS_NUMBER = 10\n"
   ]
  },
  {
   "cell_type": "code",
   "execution_count": 2,
   "metadata": {},
   "outputs": [],
   "source": [
    "train_data, data_indices = load_lakes(TRAIN_LAKES)\n",
    "test_data, _ = load_lakes(TEST_LAKES)"
   ]
  },
  {
   "cell_type": "markdown",
   "metadata": {},
   "source": [
    "### 1. Train and optimize lake detector with cross-validation"
   ]
  },
  {
   "cell_type": "code",
   "execution_count": 3,
   "metadata": {},
   "outputs": [
    {
     "ename": "KeyboardInterrupt",
     "evalue": "",
     "output_type": "error",
     "traceback": [
      "\u001b[1;31m---------------------------------------------------------------------------\u001b[0m",
      "\u001b[1;31mKeyboardInterrupt\u001b[0m                         Traceback (most recent call last)",
      "Cell \u001b[1;32mIn[3], line 6\u001b[0m\n\u001b[0;32m      2\u001b[0m kappa_scores \u001b[38;5;241m=\u001b[39m []\n\u001b[0;32m      4\u001b[0m \u001b[38;5;66;03m# define the space for thresholds\u001b[39;00m\n\u001b[0;32m      5\u001b[0m thresholds \u001b[38;5;241m=\u001b[39m [\n\u001b[1;32m----> 6\u001b[0m     np\u001b[38;5;241m.\u001b[39mpercentile(\u001b[43mget_water_index_values\u001b[49m\u001b[43m(\u001b[49m\u001b[43mtrain_data\u001b[49m\u001b[43m)\u001b[49m[\u001b[38;5;241m2\u001b[39m], percentile)\n\u001b[0;32m      7\u001b[0m     \u001b[38;5;28;01mfor\u001b[39;00m percentile \u001b[38;5;129;01min\u001b[39;00m np\u001b[38;5;241m.\u001b[39mlinspace(\u001b[38;5;241m20\u001b[39m, \u001b[38;5;241m100\u001b[39m, THRESHOLDS_NUMBER)\n\u001b[0;32m      8\u001b[0m ]\n\u001b[0;32m     10\u001b[0m \u001b[38;5;66;03m# go over each threshold\u001b[39;00m\n\u001b[0;32m     11\u001b[0m \u001b[38;5;28;01mfor\u001b[39;00m threshold \u001b[38;5;129;01min\u001b[39;00m tqdm(thresholds):\n\u001b[0;32m     12\u001b[0m     \u001b[38;5;66;03m# compute the average metric for the current threshold\u001b[39;00m\n",
      "File \u001b[1;32md:\\Master-Of-Data-Science\\2A\\DS\\project\\Lakes-Analysis\\src\\model_trainer.py:18\u001b[0m, in \u001b[0;36mget_water_index_values\u001b[1;34m(data)\u001b[0m\n\u001b[0;32m     15\u001b[0m water_index_values \u001b[38;5;241m=\u001b[39m []\n\u001b[0;32m     17\u001b[0m \u001b[38;5;28;01mfor\u001b[39;00m bands \u001b[38;5;129;01min\u001b[39;00m data\u001b[38;5;241m.\u001b[39mvalues():\n\u001b[1;32m---> 18\u001b[0m     min_value \u001b[38;5;241m=\u001b[39m \u001b[38;5;28mmin\u001b[39m(min_value, \u001b[43mbands\u001b[49m\u001b[43m[\u001b[49m\u001b[38;5;241;43m0\u001b[39;49m\u001b[43m]\u001b[49m\u001b[38;5;241;43m.\u001b[39;49m\u001b[43mflatten\u001b[49m\u001b[43m(\u001b[49m\u001b[43m)\u001b[49m\u001b[38;5;241m.\u001b[39mmin())\n\u001b[0;32m     19\u001b[0m     max_value \u001b[38;5;241m=\u001b[39m \u001b[38;5;28mmax\u001b[39m(max_value, bands[\u001b[38;5;241m0\u001b[39m]\u001b[38;5;241m.\u001b[39mflatten()\u001b[38;5;241m.\u001b[39mmax())\n\u001b[0;32m     21\u001b[0m     \u001b[38;5;66;03m# store all water index values\u001b[39;00m\n",
      "\u001b[1;31mKeyboardInterrupt\u001b[0m: "
     ]
    }
   ],
   "source": [
    "f1_scores = []\n",
    "kappa_scores = []\n",
    "\n",
    "# define the space for thresholds\n",
    "thresholds = [\n",
    "    np.percentile(get_water_index_values(train_data)[2], percentile)\n",
    "    for percentile in np.linspace(20, 100, THRESHOLDS_NUMBER)\n",
    "]\n",
    "\n",
    "# go over each threshold\n",
    "for threshold in tqdm(thresholds):\n",
    "    # compute the average metric for the current threshold\n",
    "    avg_f1, avg_kappa = compute_cross_validation_scores(train_data, data_indices, threshold)\n",
    "\n",
    "    f1_scores.append(avg_f1)\n",
    "    kappa_scores.append(avg_kappa)\n",
    "\n",
    "# display a data frame that contains the results\n",
    "threshold_scores = pd.DataFrame(\n",
    "    {\"threshold\": thresholds, \"f1_score\": f1_scores, \"kappa_score\": kappa_scores}\n",
    ").sort_values(\"f1_score\", ascending=False)\n",
    "threshold_scores\n",
    "\n"
   ]
  },
  {
   "cell_type": "code",
   "execution_count": 4,
   "metadata": {},
   "outputs": [],
   "source": [
    "# get predictions for the train dataset\n",
    "best_threshold = 0.129791 # threshold_scores[\"threshold\"].iloc[0]\n",
    "train_detections = predict(train_data, best_threshold)"
   ]
  },
  {
   "cell_type": "markdown",
   "metadata": {},
   "source": [
    "### 2. Test lake detector"
   ]
  },
  {
   "cell_type": "code",
   "execution_count": 5,
   "metadata": {},
   "outputs": [
    {
     "name": "stdout",
     "output_type": "stream",
     "text": [
      "Test F1: 0.6826622223650408\n",
      "Test kappa: 0.3428896767498583\n"
     ]
    }
   ],
   "source": [
    "# get predictions for the test dataset\n",
    "test_detections = predict(test_data, best_threshold)\n",
    "\n",
    "# compute the test metrics with the current threshold\n",
    "avg_f1, avg_kappa = compute_cross_validation_scores(\n",
    "    test_data, [list(range(len(test_data)))], best_threshold, test=True\n",
    ")\n",
    "print(f\"Test F1: {avg_f1}\\nTest kappa: {avg_kappa}\")\n"
   ]
  },
  {
   "cell_type": "markdown",
   "metadata": {},
   "source": [
    "### 3. Analyze lake evolution"
   ]
  },
  {
   "cell_type": "code",
   "execution_count": 23,
   "metadata": {},
   "outputs": [
    {
     "name": "stderr",
     "output_type": "stream",
     "text": [
      "100%|██████████| 116/116 [00:09<00:00, 12.68it/s]\n"
     ]
    },
    {
     "data": {
      "application/vnd.plotly.v1+json": {
       "config": {
        "plotlyServerURL": "https://plot.ly"
       },
       "data": [
        {
         "hovertemplate": "date=%{x}<br>area in square kilometers=%{y}<extra></extra>",
         "legendgroup": "",
         "line": {
          "color": "#06c2ac",
          "dash": "solid"
         },
         "marker": {
          "symbol": "circle"
         },
         "mode": "lines+markers",
         "name": "",
         "orientation": "v",
         "showlegend": false,
         "type": "scatter",
         "x": [
          "1988-09-04",
          "1990-09-10",
          "1991-06-25",
          "1991-08-12",
          "1991-11-16",
          "1991-12-02",
          "1991-12-18",
          "1992-11-02",
          "1993-02-06",
          "1993-02-22",
          "1993-04-27",
          "1993-05-13",
          "1993-08-01",
          "1993-10-04",
          "1993-10-20",
          "1993-11-05",
          "1993-11-21",
          "1994-01-08",
          "1994-01-24",
          "1994-02-25",
          "1994-04-30",
          "1994-09-21",
          "1994-11-08",
          "1994-12-10",
          "1995-08-07",
          "1995-10-10",
          "1996-01-14",
          "1996-03-18",
          "1996-07-24",
          "1996-08-25",
          "1997-05-08",
          "1997-09-13",
          "1998-01-19",
          "1998-02-04",
          "1998-03-08",
          "1998-08-31",
          "1998-09-16",
          "1998-11-03",
          "1999-08-10",
          "2000-02-02",
          "2000-04-22",
          "2000-09-13",
          "2000-12-02",
          "2002-03-11",
          "2002-04-12",
          "2002-07-17",
          "2002-10-05",
          "2002-11-06",
          "2003-01-25",
          "2003-04-15",
          "2004-04-25",
          "2004-06-28",
          "2004-07-14",
          "2004-07-30",
          "2004-08-15",
          "2004-11-03",
          "2005-01-06",
          "2005-02-07",
          "2005-03-11",
          "2005-07-17",
          "2006-02-10",
          "2006-04-15",
          "2006-09-22",
          "2006-10-08",
          "2006-12-27",
          "2007-01-12",
          "2007-01-28",
          "2007-04-02",
          "2007-05-04",
          "2007-09-09",
          "2008-03-03",
          "2008-09-27",
          "2008-11-30",
          "2009-01-17",
          "2009-03-06",
          "2009-04-07",
          "2009-09-14",
          "2009-09-30",
          "2010-01-20",
          "2010-11-20",
          "2010-12-22",
          "2011-03-12",
          "2013-09-09",
          "2013-10-11",
          "2013-12-30",
          "2014-01-15",
          "2014-01-31",
          "2014-05-07",
          "2015-03-07",
          "2015-07-29",
          "2015-08-30",
          "2015-09-15",
          "2015-12-04",
          "2016-02-22",
          "2016-03-25",
          "2016-12-22",
          "2017-02-08",
          "2017-03-28",
          "2017-08-19",
          "2017-09-20",
          "2017-10-22",
          "2017-11-23",
          "2017-12-09",
          "2018-02-11",
          "2018-03-31",
          "2018-10-25",
          "2018-11-10",
          "2018-12-28",
          "2019-01-13",
          "2019-03-02",
          "2019-09-10",
          "2019-09-26",
          "2019-10-12",
          "2019-10-28",
          "2019-11-13",
          "2019-12-15"
         ],
         "xaxis": "x",
         "y": [
          44.9334,
          146.682,
          69.0309,
          145.62449999999998,
          144.8433,
          82.9908,
          145.0053,
          143.2962,
          142.0623,
          136.32569999999998,
          68.7024,
          140.6592,
          140.7231,
          143.4546,
          143.3655,
          138.7764,
          143.0028,
          141.9975,
          141.3666,
          140.8914,
          140.7177,
          138.9789,
          137.89079999999998,
          137.1996,
          128.7981,
          1.8432,
          134.2305,
          50.578199999999995,
          93.4155,
          132.7518,
          108.8766,
          57.4641,
          93.8124,
          93.3804,
          74.6856,
          118.95389999999999,
          115.6968,
          99.7695,
          0.0009,
          55.140299999999996,
          0.13319999999999999,
          41.8986,
          50.8941,
          49.0617,
          23.4891,
          0.1197,
          0.1188,
          0.09269999999999999,
          0.0324,
          0.0837,
          0.1134,
          0.1296,
          0.0486,
          0.1224,
          0.1026,
          0.0801,
          0.0783,
          0.049499999999999995,
          0.0756,
          42.1173,
          13.0734,
          0.1026,
          0.09899999999999999,
          0.0549,
          0.027,
          0.033299999999999996,
          0.0594,
          0.12329999999999999,
          0.0162,
          27.5598,
          0.1845,
          0.1782,
          0.15209999999999999,
          0.1305,
          0.09809999999999999,
          0.0909,
          0.1026,
          0.0738,
          0.081,
          69.0165,
          87.8625,
          75.2931,
          44.9046,
          63.2439,
          0.09899999999999999,
          0.108,
          0.1098,
          20.8593,
          0.1692,
          9.7461,
          35.1486,
          28.7451,
          0.1368,
          0.0909,
          0.09,
          122.157,
          112.5279,
          92.9097,
          89.5959,
          81.3564,
          75.9897,
          45.797399999999996,
          65.14829999999999,
          2.2608,
          0.0549,
          0.1467,
          0.12329999999999999,
          0.09809999999999999,
          0.0801,
          0.11069999999999999,
          0.1872,
          0.1287,
          0.0387,
          0.0801,
          0.11789999999999999,
          0.11789999999999999
         ],
         "yaxis": "y"
        }
       ],
       "layout": {
        "legend": {
         "tracegroupgap": 0
        },
        "template": {
         "data": {
          "bar": [
           {
            "error_x": {
             "color": "#2a3f5f"
            },
            "error_y": {
             "color": "#2a3f5f"
            },
            "marker": {
             "line": {
              "color": "#E5ECF6",
              "width": 0.5
             },
             "pattern": {
              "fillmode": "overlay",
              "size": 10,
              "solidity": 0.2
             }
            },
            "type": "bar"
           }
          ],
          "barpolar": [
           {
            "marker": {
             "line": {
              "color": "#E5ECF6",
              "width": 0.5
             },
             "pattern": {
              "fillmode": "overlay",
              "size": 10,
              "solidity": 0.2
             }
            },
            "type": "barpolar"
           }
          ],
          "carpet": [
           {
            "aaxis": {
             "endlinecolor": "#2a3f5f",
             "gridcolor": "white",
             "linecolor": "white",
             "minorgridcolor": "white",
             "startlinecolor": "#2a3f5f"
            },
            "baxis": {
             "endlinecolor": "#2a3f5f",
             "gridcolor": "white",
             "linecolor": "white",
             "minorgridcolor": "white",
             "startlinecolor": "#2a3f5f"
            },
            "type": "carpet"
           }
          ],
          "choropleth": [
           {
            "colorbar": {
             "outlinewidth": 0,
             "ticks": ""
            },
            "type": "choropleth"
           }
          ],
          "contour": [
           {
            "colorbar": {
             "outlinewidth": 0,
             "ticks": ""
            },
            "colorscale": [
             [
              0,
              "#0d0887"
             ],
             [
              0.1111111111111111,
              "#46039f"
             ],
             [
              0.2222222222222222,
              "#7201a8"
             ],
             [
              0.3333333333333333,
              "#9c179e"
             ],
             [
              0.4444444444444444,
              "#bd3786"
             ],
             [
              0.5555555555555556,
              "#d8576b"
             ],
             [
              0.6666666666666666,
              "#ed7953"
             ],
             [
              0.7777777777777778,
              "#fb9f3a"
             ],
             [
              0.8888888888888888,
              "#fdca26"
             ],
             [
              1,
              "#f0f921"
             ]
            ],
            "type": "contour"
           }
          ],
          "contourcarpet": [
           {
            "colorbar": {
             "outlinewidth": 0,
             "ticks": ""
            },
            "type": "contourcarpet"
           }
          ],
          "heatmap": [
           {
            "colorbar": {
             "outlinewidth": 0,
             "ticks": ""
            },
            "colorscale": [
             [
              0,
              "#0d0887"
             ],
             [
              0.1111111111111111,
              "#46039f"
             ],
             [
              0.2222222222222222,
              "#7201a8"
             ],
             [
              0.3333333333333333,
              "#9c179e"
             ],
             [
              0.4444444444444444,
              "#bd3786"
             ],
             [
              0.5555555555555556,
              "#d8576b"
             ],
             [
              0.6666666666666666,
              "#ed7953"
             ],
             [
              0.7777777777777778,
              "#fb9f3a"
             ],
             [
              0.8888888888888888,
              "#fdca26"
             ],
             [
              1,
              "#f0f921"
             ]
            ],
            "type": "heatmap"
           }
          ],
          "heatmapgl": [
           {
            "colorbar": {
             "outlinewidth": 0,
             "ticks": ""
            },
            "colorscale": [
             [
              0,
              "#0d0887"
             ],
             [
              0.1111111111111111,
              "#46039f"
             ],
             [
              0.2222222222222222,
              "#7201a8"
             ],
             [
              0.3333333333333333,
              "#9c179e"
             ],
             [
              0.4444444444444444,
              "#bd3786"
             ],
             [
              0.5555555555555556,
              "#d8576b"
             ],
             [
              0.6666666666666666,
              "#ed7953"
             ],
             [
              0.7777777777777778,
              "#fb9f3a"
             ],
             [
              0.8888888888888888,
              "#fdca26"
             ],
             [
              1,
              "#f0f921"
             ]
            ],
            "type": "heatmapgl"
           }
          ],
          "histogram": [
           {
            "marker": {
             "pattern": {
              "fillmode": "overlay",
              "size": 10,
              "solidity": 0.2
             }
            },
            "type": "histogram"
           }
          ],
          "histogram2d": [
           {
            "colorbar": {
             "outlinewidth": 0,
             "ticks": ""
            },
            "colorscale": [
             [
              0,
              "#0d0887"
             ],
             [
              0.1111111111111111,
              "#46039f"
             ],
             [
              0.2222222222222222,
              "#7201a8"
             ],
             [
              0.3333333333333333,
              "#9c179e"
             ],
             [
              0.4444444444444444,
              "#bd3786"
             ],
             [
              0.5555555555555556,
              "#d8576b"
             ],
             [
              0.6666666666666666,
              "#ed7953"
             ],
             [
              0.7777777777777778,
              "#fb9f3a"
             ],
             [
              0.8888888888888888,
              "#fdca26"
             ],
             [
              1,
              "#f0f921"
             ]
            ],
            "type": "histogram2d"
           }
          ],
          "histogram2dcontour": [
           {
            "colorbar": {
             "outlinewidth": 0,
             "ticks": ""
            },
            "colorscale": [
             [
              0,
              "#0d0887"
             ],
             [
              0.1111111111111111,
              "#46039f"
             ],
             [
              0.2222222222222222,
              "#7201a8"
             ],
             [
              0.3333333333333333,
              "#9c179e"
             ],
             [
              0.4444444444444444,
              "#bd3786"
             ],
             [
              0.5555555555555556,
              "#d8576b"
             ],
             [
              0.6666666666666666,
              "#ed7953"
             ],
             [
              0.7777777777777778,
              "#fb9f3a"
             ],
             [
              0.8888888888888888,
              "#fdca26"
             ],
             [
              1,
              "#f0f921"
             ]
            ],
            "type": "histogram2dcontour"
           }
          ],
          "mesh3d": [
           {
            "colorbar": {
             "outlinewidth": 0,
             "ticks": ""
            },
            "type": "mesh3d"
           }
          ],
          "parcoords": [
           {
            "line": {
             "colorbar": {
              "outlinewidth": 0,
              "ticks": ""
             }
            },
            "type": "parcoords"
           }
          ],
          "pie": [
           {
            "automargin": true,
            "type": "pie"
           }
          ],
          "scatter": [
           {
            "fillpattern": {
             "fillmode": "overlay",
             "size": 10,
             "solidity": 0.2
            },
            "type": "scatter"
           }
          ],
          "scatter3d": [
           {
            "line": {
             "colorbar": {
              "outlinewidth": 0,
              "ticks": ""
             }
            },
            "marker": {
             "colorbar": {
              "outlinewidth": 0,
              "ticks": ""
             }
            },
            "type": "scatter3d"
           }
          ],
          "scattercarpet": [
           {
            "marker": {
             "colorbar": {
              "outlinewidth": 0,
              "ticks": ""
             }
            },
            "type": "scattercarpet"
           }
          ],
          "scattergeo": [
           {
            "marker": {
             "colorbar": {
              "outlinewidth": 0,
              "ticks": ""
             }
            },
            "type": "scattergeo"
           }
          ],
          "scattergl": [
           {
            "marker": {
             "colorbar": {
              "outlinewidth": 0,
              "ticks": ""
             }
            },
            "type": "scattergl"
           }
          ],
          "scattermapbox": [
           {
            "marker": {
             "colorbar": {
              "outlinewidth": 0,
              "ticks": ""
             }
            },
            "type": "scattermapbox"
           }
          ],
          "scatterpolar": [
           {
            "marker": {
             "colorbar": {
              "outlinewidth": 0,
              "ticks": ""
             }
            },
            "type": "scatterpolar"
           }
          ],
          "scatterpolargl": [
           {
            "marker": {
             "colorbar": {
              "outlinewidth": 0,
              "ticks": ""
             }
            },
            "type": "scatterpolargl"
           }
          ],
          "scatterternary": [
           {
            "marker": {
             "colorbar": {
              "outlinewidth": 0,
              "ticks": ""
             }
            },
            "type": "scatterternary"
           }
          ],
          "surface": [
           {
            "colorbar": {
             "outlinewidth": 0,
             "ticks": ""
            },
            "colorscale": [
             [
              0,
              "#0d0887"
             ],
             [
              0.1111111111111111,
              "#46039f"
             ],
             [
              0.2222222222222222,
              "#7201a8"
             ],
             [
              0.3333333333333333,
              "#9c179e"
             ],
             [
              0.4444444444444444,
              "#bd3786"
             ],
             [
              0.5555555555555556,
              "#d8576b"
             ],
             [
              0.6666666666666666,
              "#ed7953"
             ],
             [
              0.7777777777777778,
              "#fb9f3a"
             ],
             [
              0.8888888888888888,
              "#fdca26"
             ],
             [
              1,
              "#f0f921"
             ]
            ],
            "type": "surface"
           }
          ],
          "table": [
           {
            "cells": {
             "fill": {
              "color": "#EBF0F8"
             },
             "line": {
              "color": "white"
             }
            },
            "header": {
             "fill": {
              "color": "#C8D4E3"
             },
             "line": {
              "color": "white"
             }
            },
            "type": "table"
           }
          ]
         },
         "layout": {
          "annotationdefaults": {
           "arrowcolor": "#2a3f5f",
           "arrowhead": 0,
           "arrowwidth": 1
          },
          "autotypenumbers": "strict",
          "coloraxis": {
           "colorbar": {
            "outlinewidth": 0,
            "ticks": ""
           }
          },
          "colorscale": {
           "diverging": [
            [
             0,
             "#8e0152"
            ],
            [
             0.1,
             "#c51b7d"
            ],
            [
             0.2,
             "#de77ae"
            ],
            [
             0.3,
             "#f1b6da"
            ],
            [
             0.4,
             "#fde0ef"
            ],
            [
             0.5,
             "#f7f7f7"
            ],
            [
             0.6,
             "#e6f5d0"
            ],
            [
             0.7,
             "#b8e186"
            ],
            [
             0.8,
             "#7fbc41"
            ],
            [
             0.9,
             "#4d9221"
            ],
            [
             1,
             "#276419"
            ]
           ],
           "sequential": [
            [
             0,
             "#0d0887"
            ],
            [
             0.1111111111111111,
             "#46039f"
            ],
            [
             0.2222222222222222,
             "#7201a8"
            ],
            [
             0.3333333333333333,
             "#9c179e"
            ],
            [
             0.4444444444444444,
             "#bd3786"
            ],
            [
             0.5555555555555556,
             "#d8576b"
            ],
            [
             0.6666666666666666,
             "#ed7953"
            ],
            [
             0.7777777777777778,
             "#fb9f3a"
            ],
            [
             0.8888888888888888,
             "#fdca26"
            ],
            [
             1,
             "#f0f921"
            ]
           ],
           "sequentialminus": [
            [
             0,
             "#0d0887"
            ],
            [
             0.1111111111111111,
             "#46039f"
            ],
            [
             0.2222222222222222,
             "#7201a8"
            ],
            [
             0.3333333333333333,
             "#9c179e"
            ],
            [
             0.4444444444444444,
             "#bd3786"
            ],
            [
             0.5555555555555556,
             "#d8576b"
            ],
            [
             0.6666666666666666,
             "#ed7953"
            ],
            [
             0.7777777777777778,
             "#fb9f3a"
            ],
            [
             0.8888888888888888,
             "#fdca26"
            ],
            [
             1,
             "#f0f921"
            ]
           ]
          },
          "colorway": [
           "#636efa",
           "#EF553B",
           "#00cc96",
           "#ab63fa",
           "#FFA15A",
           "#19d3f3",
           "#FF6692",
           "#B6E880",
           "#FF97FF",
           "#FECB52"
          ],
          "font": {
           "color": "#2a3f5f"
          },
          "geo": {
           "bgcolor": "white",
           "lakecolor": "white",
           "landcolor": "#E5ECF6",
           "showlakes": true,
           "showland": true,
           "subunitcolor": "white"
          },
          "hoverlabel": {
           "align": "left"
          },
          "hovermode": "closest",
          "mapbox": {
           "style": "light"
          },
          "paper_bgcolor": "white",
          "plot_bgcolor": "#E5ECF6",
          "polar": {
           "angularaxis": {
            "gridcolor": "white",
            "linecolor": "white",
            "ticks": ""
           },
           "bgcolor": "#E5ECF6",
           "radialaxis": {
            "gridcolor": "white",
            "linecolor": "white",
            "ticks": ""
           }
          },
          "scene": {
           "xaxis": {
            "backgroundcolor": "#E5ECF6",
            "gridcolor": "white",
            "gridwidth": 2,
            "linecolor": "white",
            "showbackground": true,
            "ticks": "",
            "zerolinecolor": "white"
           },
           "yaxis": {
            "backgroundcolor": "#E5ECF6",
            "gridcolor": "white",
            "gridwidth": 2,
            "linecolor": "white",
            "showbackground": true,
            "ticks": "",
            "zerolinecolor": "white"
           },
           "zaxis": {
            "backgroundcolor": "#E5ECF6",
            "gridcolor": "white",
            "gridwidth": 2,
            "linecolor": "white",
            "showbackground": true,
            "ticks": "",
            "zerolinecolor": "white"
           }
          },
          "shapedefaults": {
           "line": {
            "color": "#2a3f5f"
           }
          },
          "ternary": {
           "aaxis": {
            "gridcolor": "white",
            "linecolor": "white",
            "ticks": ""
           },
           "baxis": {
            "gridcolor": "white",
            "linecolor": "white",
            "ticks": ""
           },
           "bgcolor": "#E5ECF6",
           "caxis": {
            "gridcolor": "white",
            "linecolor": "white",
            "ticks": ""
           }
          },
          "title": {
           "x": 0.05
          },
          "xaxis": {
           "automargin": true,
           "gridcolor": "white",
           "linecolor": "white",
           "ticks": "",
           "title": {
            "standoff": 15
           },
           "zerolinecolor": "white",
           "zerolinewidth": 2
          },
          "yaxis": {
           "automargin": true,
           "gridcolor": "white",
           "linecolor": "white",
           "ticks": "",
           "title": {
            "standoff": 15
           },
           "zerolinecolor": "white",
           "zerolinewidth": 2
          }
         }
        },
        "title": {
         "text": "Observations of area evolution for lake George"
        },
        "xaxis": {
         "anchor": "y",
         "domain": [
          0,
          1
         ],
         "title": {
          "text": "date"
         }
        },
        "yaxis": {
         "anchor": "x",
         "domain": [
          0,
          1
         ],
         "title": {
          "text": "area in square kilometers"
         }
        }
       }
      }
     },
     "metadata": {},
     "output_type": "display_data"
    },
    {
     "data": {
      "application/vnd.jupyter.widget-view+json": {
       "model_id": "f57fcabc36324aca94ecb06b478eae61",
       "version_major": 2,
       "version_minor": 0
      },
      "text/plain": [
       "interactive(children=(IntSlider(value=0, description='index', max=115), Output()), _dom_classes=('widget-inter…"
      ]
     },
     "metadata": {},
     "output_type": "display_data"
    },
    {
     "data": {
      "application/vnd.jupyter.widget-view+json": {
       "model_id": "60270c0682604f3aa9a8aec7a9561f2e",
       "version_major": 2,
       "version_minor": 0
      },
      "text/plain": [
       "interactive(children=(IntSlider(value=0, description='index', max=115), Output()), _dom_classes=('widget-inter…"
      ]
     },
     "metadata": {},
     "output_type": "display_data"
    }
   ],
   "source": [
    "analyze_lake(\"george\", train_data, train_detections)\n"
   ]
  }
 ],
 "metadata": {
  "kernelspec": {
   "display_name": "data_science",
   "language": "python",
   "name": "python3"
  },
  "language_info": {
   "codemirror_mode": {
    "name": "ipython",
    "version": 3
   },
   "file_extension": ".py",
   "mimetype": "text/x-python",
   "name": "python",
   "nbconvert_exporter": "python",
   "pygments_lexer": "ipython3",
   "version": "3.12.2"
  }
 },
 "nbformat": 4,
 "nbformat_minor": 2
}
